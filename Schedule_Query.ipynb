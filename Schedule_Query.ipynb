{
  "nbformat": 4,
  "nbformat_minor": 0,
  "metadata": {
    "colab": {
      "provenance": [],
      "authorship_tag": "ABX9TyPjU03efNTNXOHAoBU73EPt",
      "include_colab_link": true
    },
    "kernelspec": {
      "name": "python3",
      "display_name": "Python 3"
    },
    "language_info": {
      "name": "python"
    }
  },
  "cells": [
    {
      "cell_type": "markdown",
      "metadata": {
        "id": "view-in-github",
        "colab_type": "text"
      },
      "source": [
        "<a href=\"https://colab.research.google.com/github/MohamedFathiEgypt/Test/blob/main/Schedule_Query.ipynb\" target=\"_parent\"><img src=\"https://colab.research.google.com/assets/colab-badge.svg\" alt=\"Open In Colab\"/></a>"
      ]
    },
    {
      "cell_type": "code",
      "execution_count": null,
      "metadata": {
        "id": "5RGKSdXE2VAA",
        "outputId": "681bd665-22a4-46b9-e168-c76d4c157ac9",
        "colab": {
          "base_uri": "https://localhost:8080/"
        }
      },
      "outputs": [
        {
          "output_type": "stream",
          "name": "stdout",
          "text": [
            "The autoreload extension is already loaded. To reload it, use:\n",
            "  %reload_ext autoreload\n"
          ]
        },
        {
          "output_type": "execute_result",
          "data": {
            "text/plain": [
              "{'spreadsheetId': '1YUt08ZHu7Z7NL_SzrjOYtUgyHP_uiX9bTdrM4R53R-Q',\n",
              " 'updatedRange': \"'Raw Data'!E1\",\n",
              " 'updatedRows': 1,\n",
              " 'updatedColumns': 1,\n",
              " 'updatedCells': 1}"
            ]
          },
          "metadata": {},
          "execution_count": 2
        }
      ],
      "source": [
        "\n",
        "import sys\n",
        "import os\n",
        "import traitlets as _traitlets\n",
        "from typing import Counter\n",
        "from google.colab import auth\n",
        "auth.authenticate_user()\n",
        "import gspread\n",
        "from google.auth import default\n",
        "creds, _ = default()\n",
        "gc = gspread.authorize(creds)\n",
        "FathiFinal = gc.open_by_key('1YUt08ZHu7Z7NL_SzrjOYtUgyHP_uiX9bTdrM4R53R-Q')\n",
        "hurrierData = FathiFinal.worksheet('Raw Data')\n",
        "#hurrierData.update([[\"5/6/22\",\"=1+1\",\"=max(A1,B2)\"]], raw=False)\n",
        "\n",
        "import pandas as pd\n",
        "Snowflake_Data_1 = pd.DataFrame(columns=['a','b','c','d'], index=['x','y','z'])\n",
        "\n",
        "Snowflake_Data_1.loc['y'] = pd.Series({'a':1, 'b':5, 'c':2, 'd':3})\n",
        "\n",
        "Sheet_Col_plus1 = Snowflake_Data_1.shape[1]+1\n",
        "hurrierData.update_cell(1,Sheet_Col_plus1,'=ARRAYFORMULA(IF(ROW(B:B)=1,\"Calculated Field\",IF(B:B=\"\",\"\",3)))')"
      ]
    }
  ]
}